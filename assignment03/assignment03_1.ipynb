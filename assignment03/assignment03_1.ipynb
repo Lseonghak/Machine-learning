{
 "cells": [
  {
   "cell_type": "markdown",
   "metadata": {},
   "source": [
    "# Gradient of Image"
   ]
  },
  {
   "cell_type": "markdown",
   "metadata": {},
   "source": [
    "## import library"
   ]
  },
  {
   "cell_type": "code",
   "execution_count": 18,
   "metadata": {},
   "outputs": [],
   "source": [
    "import numpy as np\n",
    "import matplotlib.image as img\n",
    "import matplotlib.pyplot as plt\n",
    "from matplotlib import cm\n",
    "import matplotlib.colors as colors"
   ]
  },
  {
   "cell_type": "markdown",
   "metadata": {},
   "source": [
    "## load input image ('test.jpeg')"
   ]
  },
  {
   "cell_type": "code",
   "execution_count": 19,
   "metadata": {},
   "outputs": [],
   "source": [
    "I0 = img.imread('test.jpeg')"
   ]
  },
  {
   "cell_type": "markdown",
   "metadata": {},
   "source": [
    "## check the size of the input image"
   ]
  },
  {
   "cell_type": "code",
   "execution_count": 20,
   "metadata": {},
   "outputs": [
    {
     "name": "stdout",
     "output_type": "stream",
     "text": [
      "number of rows of I0 =  512\n",
      "number of columns of I0 =  510\n",
      "number of channels of I0 =  3\n"
     ]
    }
   ],
   "source": [
    "# ++++++++++++++++++++++++++++++++++++++++++++++++++\n",
    "# complete the blanks\n",
    "#\n",
    "num_row     = len(I0[0,:,0])\n",
    "num_column  = len(I0[:,0,0])\n",
    "num_channel = len(I0[0,0,:])\n",
    "#\n",
    "# ++++++++++++++++++++++++++++++++++++++++++++++++++\n",
    "\n",
    "print('number of rows of I0 = ', num_row)\n",
    "print('number of columns of I0 = ', num_column)\n",
    "print('number of channels of I0 = ', num_channel)"
   ]
  },
  {
   "cell_type": "markdown",
   "metadata": {},
   "source": [
    "## convert the color image into a grey image\n",
    "- take the average of the input image with 3 channels with respect to the channels into an image with 1 channel"
   ]
  },
  {
   "cell_type": "code",
   "execution_count": 21,
   "metadata": {},
   "outputs": [
    {
     "name": "stdout",
     "output_type": "stream",
     "text": [
      "number of rows of I =  512\n",
      "number of columns of I =  510\n"
     ]
    }
   ],
   "source": [
    "# ++++++++++++++++++++++++++++++++++++++++++++++++++\n",
    "# complete the blanks\n",
    "#\n",
    "\n",
    "I = (I0[:,:,0]/3 + I0[:,:,1]/3 + I0[:,:,2]/3)\n",
    "\n",
    "num_row     = len(I[0,:])\n",
    "num_column  = len(I[:,0])\n",
    "#\n",
    "# ++++++++++++++++++++++++++++++++++++++++++++++++++\n",
    "\n",
    "print('number of rows of I = ', num_row)\n",
    "print('number of columns of I = ', num_column)"
   ]
  },
  {
   "cell_type": "markdown",
   "metadata": {},
   "source": [
    "## normalize the converted image\n",
    "- normalize the converted grey scale image so that its maximum value is 1 and its minimum value is 0"
   ]
  },
  {
   "cell_type": "code",
   "execution_count": 22,
   "metadata": {},
   "outputs": [
    {
     "name": "stdout",
     "output_type": "stream",
     "text": [
      "maximum value of I =  0.06308835672997516\n",
      "minimum value of I =  0.0\n"
     ]
    }
   ],
   "source": [
    "# ++++++++++++++++++++++++++++++++++++++++++++++++++\n",
    "# complete the blanks\n",
    "#\n",
    "\n",
    "I = (I / sum(I))\n",
    "\n",
    "#\n",
    "# ++++++++++++++++++++++++++++++++++++++++++++++++++\n",
    "\n",
    "print('maximum value of I = ', np.max(I))\n",
    "print('minimum value of I = ', np.min(I))"
   ]
  },
  {
   "cell_type": "markdown",
   "metadata": {},
   "source": [
    "## define a function to compute the derivative of input matrix in x(row)-direction"
   ]
  },
  {
   "cell_type": "markdown",
   "metadata": {},
   "source": [
    "- forward difference : $ I[x+1, y] - I[x, y] $ "
   ]
  },
  {
   "cell_type": "code",
   "execution_count": 121,
   "metadata": {},
   "outputs": [
    {
     "name": "stdout",
     "output_type": "stream",
     "text": [
      "[[2.04286431e-03 1.87744739e-03 1.97205755e-03 ... 2.31804710e-03\n",
      "  2.41350075e-03 7.43187448e-04]\n",
      " [2.00702459e-03 2.00261055e-03 1.82311061e-03 ... 2.30700878e-03\n",
      "  2.47538539e-03 3.30305533e-04]\n",
      " [1.83977254e-03 2.05029175e-03 1.82311061e-03 ... 2.43394946e-03\n",
      "  2.41350075e-03 6.60611065e-04]\n",
      " ...\n",
      " [1.95923829e-03 1.93704889e-03 2.06738360e-03 ... 2.92515467e-03\n",
      "  3.66357037e-03 2.06440958e-03]\n",
      " [1.85171911e-03 2.00261055e-03 1.80523697e-03 ... 3.14040191e-03\n",
      "  3.23037793e-03 8.25763832e-05]\n",
      " [1.78003966e-03 1.84168648e-03 1.71586881e-03 ... 2.98586543e-03\n",
      "  3.05710095e-03 2.47729149e-04]]\n",
      "[[2.00702459e-03 2.00261055e-03 1.82311061e-03 ... 2.30700878e-03\n",
      "  2.47538539e-03 3.30305533e-04]\n",
      " [1.83977254e-03 2.05029175e-03 1.82311061e-03 ... 2.43394946e-03\n",
      "  2.41350075e-03 6.60611065e-04]\n",
      " [1.94729171e-03 2.16949476e-03 1.93631029e-03 ... 2.34012374e-03\n",
      "  2.54345848e-03 2.47729149e-04]\n",
      " ...\n",
      " [1.85171911e-03 2.00261055e-03 1.80523697e-03 ... 3.14040191e-03\n",
      "  3.23037793e-03 8.25763832e-05]\n",
      " [1.78003966e-03 1.84168648e-03 1.71586881e-03 ... 2.98586543e-03\n",
      "  3.05710095e-03 2.47729149e-04]\n",
      " [1.78003966e-03 1.84168648e-03 1.71586881e-03 ... 2.98586543e-03\n",
      "  3.05710095e-03 2.47729149e-04]]\n",
      "[[-3.58397248e-05  1.25163159e-04 -1.48946945e-04 ... -1.10383195e-05\n",
      "   6.18846347e-05 -4.12881916e-04]\n",
      " [-1.67252049e-04  4.76812035e-05 -2.16840434e-19 ...  1.26940675e-04\n",
      "  -6.18846347e-05  3.30305533e-04]\n",
      " [ 1.07519174e-04  1.19203009e-04  1.13199678e-04 ... -9.38257160e-05\n",
      "   1.29957733e-04 -4.12881916e-04]\n",
      " ...\n",
      " [-1.07519174e-04  6.55616548e-05 -2.62146623e-04 ...  2.15247231e-04\n",
      "  -4.33192443e-04 -1.98183320e-03]\n",
      " [-7.16794495e-05 -1.60924062e-04 -8.93681671e-05 ... -1.54536473e-04\n",
      "  -1.73276977e-04  1.65152766e-04]\n",
      " [ 0.00000000e+00  0.00000000e+00  0.00000000e+00 ...  0.00000000e+00\n",
      "   0.00000000e+00  0.00000000e+00]]\n"
     ]
    },
    {
     "data": {
      "text/plain": [
       "array([[-3.58397248e-05,  1.25163159e-04, -1.48946945e-04, ...,\n",
       "        -1.10383195e-05,  6.18846347e-05, -4.12881916e-04],\n",
       "       [-1.67252049e-04,  4.76812035e-05, -2.16840434e-19, ...,\n",
       "         1.26940675e-04, -6.18846347e-05,  3.30305533e-04],\n",
       "       [ 1.07519174e-04,  1.19203009e-04,  1.13199678e-04, ...,\n",
       "        -9.38257160e-05,  1.29957733e-04, -4.12881916e-04],\n",
       "       ...,\n",
       "       [-1.07519174e-04,  6.55616548e-05, -2.62146623e-04, ...,\n",
       "         2.15247231e-04, -4.33192443e-04, -1.98183320e-03],\n",
       "       [-7.16794495e-05, -1.60924062e-04, -8.93681671e-05, ...,\n",
       "        -1.54536473e-04, -1.73276977e-04,  1.65152766e-04],\n",
       "       [ 0.00000000e+00,  0.00000000e+00,  0.00000000e+00, ...,\n",
       "         0.00000000e+00,  0.00000000e+00,  0.00000000e+00]])"
      ]
     },
     "execution_count": 121,
     "metadata": {},
     "output_type": "execute_result"
    }
   ],
   "source": [
    "def compute_derivative_x_forward(I):\n",
    "    \n",
    "    D = np.zeros(I.shape)\n",
    "    \n",
    "    # ++++++++++++++++++++++++++++++++++++++++++++++++++\n",
    "    # complete the blanks\n",
    "    #\n",
    "    \n",
    "    an = I[-1,:].reshape(-1,1)\n",
    "    ab = np.concatenate((I[1:,:],an.T),axis=0)\n",
    "    D = ab - I\n",
    "\n",
    "    print(I)\n",
    "    print(ab)\n",
    "    print(D)\n",
    "\n",
    "    #\n",
    "    # ++++++++++++++++++++++++++++++++++++++++++++++++++\n",
    "    \n",
    "    return D\n",
    "compute_derivative_x_forward(I)"
   ]
  },
  {
   "cell_type": "markdown",
   "metadata": {},
   "source": [
    "- backward difference : $ I[x, y] - I[x-1, y] $ "
   ]
  },
  {
   "cell_type": "code",
   "execution_count": 123,
   "metadata": {},
   "outputs": [
    {
     "name": "stdout",
     "output_type": "stream",
     "text": [
      "[[2.04286431e-03 1.87744739e-03 1.97205755e-03 ... 2.31804710e-03\n",
      "  2.41350075e-03 7.43187448e-04]\n",
      " [2.00702459e-03 2.00261055e-03 1.82311061e-03 ... 2.30700878e-03\n",
      "  2.47538539e-03 3.30305533e-04]\n",
      " [1.83977254e-03 2.05029175e-03 1.82311061e-03 ... 2.43394946e-03\n",
      "  2.41350075e-03 6.60611065e-04]\n",
      " ...\n",
      " [1.95923829e-03 1.93704889e-03 2.06738360e-03 ... 2.92515467e-03\n",
      "  3.66357037e-03 2.06440958e-03]\n",
      " [1.85171911e-03 2.00261055e-03 1.80523697e-03 ... 3.14040191e-03\n",
      "  3.23037793e-03 8.25763832e-05]\n",
      " [1.78003966e-03 1.84168648e-03 1.71586881e-03 ... 2.98586543e-03\n",
      "  3.05710095e-03 2.47729149e-04]]\n",
      "[[2.04286431e-03 1.87744739e-03 1.97205755e-03 ... 2.31804710e-03\n",
      "  2.41350075e-03 7.43187448e-04]\n",
      " [2.04286431e-03 1.87744739e-03 1.97205755e-03 ... 2.31804710e-03\n",
      "  2.41350075e-03 7.43187448e-04]\n",
      " [2.00702459e-03 2.00261055e-03 1.82311061e-03 ... 2.30700878e-03\n",
      "  2.47538539e-03 3.30305533e-04]\n",
      " ...\n",
      " [1.88158555e-03 1.91916844e-03 1.98993119e-03 ... 3.06865283e-03\n",
      "  3.39746644e-03 5.78034682e-04]\n",
      " [1.95923829e-03 1.93704889e-03 2.06738360e-03 ... 2.92515467e-03\n",
      "  3.66357037e-03 2.06440958e-03]\n",
      " [1.85171911e-03 2.00261055e-03 1.80523697e-03 ... 3.14040191e-03\n",
      "  3.23037793e-03 8.25763832e-05]]\n",
      "[[ 0.00000000e+00  0.00000000e+00  0.00000000e+00 ...  0.00000000e+00\n",
      "   0.00000000e+00  0.00000000e+00]\n",
      " [ 3.58397248e-05 -1.25163159e-04  1.48946945e-04 ...  1.10383195e-05\n",
      "  -6.18846347e-05  4.12881916e-04]\n",
      " [ 1.67252049e-04 -4.76812035e-05  2.16840434e-19 ... -1.26940675e-04\n",
      "   6.18846347e-05 -3.30305533e-04]\n",
      " ...\n",
      " [-7.76527370e-05 -1.78804513e-05 -7.74524115e-05 ...  1.43498154e-04\n",
      "  -2.66103929e-04 -1.48637490e-03]\n",
      " [ 1.07519174e-04 -6.55616548e-05  2.62146623e-04 ... -2.15247231e-04\n",
      "   4.33192443e-04  1.98183320e-03]\n",
      " [ 7.16794495e-05  1.60924062e-04  8.93681671e-05 ...  1.54536473e-04\n",
      "   1.73276977e-04 -1.65152766e-04]]\n"
     ]
    },
    {
     "data": {
      "text/plain": [
       "array([[ 0.00000000e+00,  0.00000000e+00,  0.00000000e+00, ...,\n",
       "         0.00000000e+00,  0.00000000e+00,  0.00000000e+00],\n",
       "       [ 3.58397248e-05, -1.25163159e-04,  1.48946945e-04, ...,\n",
       "         1.10383195e-05, -6.18846347e-05,  4.12881916e-04],\n",
       "       [ 1.67252049e-04, -4.76812035e-05,  2.16840434e-19, ...,\n",
       "        -1.26940675e-04,  6.18846347e-05, -3.30305533e-04],\n",
       "       ...,\n",
       "       [-7.76527370e-05, -1.78804513e-05, -7.74524115e-05, ...,\n",
       "         1.43498154e-04, -2.66103929e-04, -1.48637490e-03],\n",
       "       [ 1.07519174e-04, -6.55616548e-05,  2.62146623e-04, ...,\n",
       "        -2.15247231e-04,  4.33192443e-04,  1.98183320e-03],\n",
       "       [ 7.16794495e-05,  1.60924062e-04,  8.93681671e-05, ...,\n",
       "         1.54536473e-04,  1.73276977e-04, -1.65152766e-04]])"
      ]
     },
     "execution_count": 123,
     "metadata": {},
     "output_type": "execute_result"
    }
   ],
   "source": [
    "def compute_derivative_x_backward(I):\n",
    "    \n",
    "    D = np.zeros(I.shape)\n",
    "    \n",
    "    # ++++++++++++++++++++++++++++++++++++++++++++++++++\n",
    "    # complete the blanks\n",
    "    #\n",
    "    \n",
    "    an = I[0,:].reshape(-1,1)\n",
    "    ab = np.concatenate((an.T,I[:-1,:]),axis=0)\n",
    "    D = ab - I\n",
    "\n",
    "    \n",
    "    print(I)\n",
    "    print(ab)\n",
    "    print(D)\n",
    "\n",
    "    \n",
    "    #\n",
    "    # ++++++++++++++++++++++++++++++++++++++++++++++++++\n",
    "    \n",
    "    return D\n",
    "compute_derivative_x_backward(I)"
   ]
  },
  {
   "cell_type": "markdown",
   "metadata": {},
   "source": [
    "- central difference : $ \\frac{1}{2} \\left( I[x+1, y] - I[x-1, y] \\right)$ "
   ]
  },
  {
   "cell_type": "code",
   "execution_count": null,
   "metadata": {},
   "outputs": [],
   "source": [
    "def compute_derivative_x_central(I):\n",
    "    \n",
    "    D = np.zeros(I.shape)\n",
    "    \n",
    "    # ++++++++++++++++++++++++++++++++++++++++++++++++++\n",
    "    # complete the blanks\n",
    "    #\n",
    "    \n",
    "    \n",
    "    \n",
    "    #\n",
    "    # ++++++++++++++++++++++++++++++++++++++++++++++++++\n",
    "    \n",
    "    return D"
   ]
  },
  {
   "cell_type": "markdown",
   "metadata": {},
   "source": [
    "## define a function to compute the derivative of input matrix in y(column)-direction"
   ]
  },
  {
   "cell_type": "markdown",
   "metadata": {},
   "source": [
    "- forward difference : $ I[x, y+1] - I[x, y] $ "
   ]
  },
  {
   "cell_type": "code",
   "execution_count": null,
   "metadata": {},
   "outputs": [],
   "source": [
    "def compute_derivative_y_forward(I):\n",
    "    \n",
    "    D = np.zeros(I.shape)\n",
    "    \n",
    "    # ++++++++++++++++++++++++++++++++++++++++++++++++++\n",
    "    # complete the blanks\n",
    "    #\n",
    "    \n",
    "    \n",
    "    \n",
    "    #\n",
    "    # ++++++++++++++++++++++++++++++++++++++++++++++++++\n",
    "    \n",
    "    return D"
   ]
  },
  {
   "cell_type": "markdown",
   "metadata": {},
   "source": [
    "- backward difference : $ I[x, y] - I[x, y-1] $ "
   ]
  },
  {
   "cell_type": "code",
   "execution_count": null,
   "metadata": {},
   "outputs": [],
   "source": [
    "def compute_derivative_y_backward(I):\n",
    "    \n",
    "    D = np.zeros(I.shape)\n",
    "    \n",
    "    # ++++++++++++++++++++++++++++++++++++++++++++++++++\n",
    "    # complete the blanks\n",
    "    #\n",
    "    \n",
    "    \n",
    "    \n",
    "    #\n",
    "    # ++++++++++++++++++++++++++++++++++++++++++++++++++\n",
    "    \n",
    "    return D"
   ]
  },
  {
   "cell_type": "markdown",
   "metadata": {},
   "source": [
    "- central difference : $ \\frac{1}{2} \\left( I[x, y+1] - I[x, y-1] \\right)$ "
   ]
  },
  {
   "cell_type": "code",
   "execution_count": null,
   "metadata": {},
   "outputs": [],
   "source": [
    "def compute_derivative_y_central(I):\n",
    "    \n",
    "    D = np.zeros(I.shape)\n",
    "    \n",
    "    # ++++++++++++++++++++++++++++++++++++++++++++++++++\n",
    "    # complete the blanks\n",
    "    #\n",
    "    \n",
    "    \n",
    "    \n",
    "    #\n",
    "    # ++++++++++++++++++++++++++++++++++++++++++++++++++\n",
    "    \n",
    "    return D"
   ]
  },
  {
   "cell_type": "markdown",
   "metadata": {},
   "source": [
    "## compute the norm of the gradient of the input image "
   ]
  },
  {
   "cell_type": "markdown",
   "metadata": {},
   "source": [
    "- $L_2^2$-norm of the gradient $ \\left( \\frac{\\partial I}{\\partial x}, \\frac{\\partial I}{\\partial y} \\right) $ is defined by $ \\left( \\frac{\\partial I}{\\partial x} \\right)^2 + \\left( \\frac{\\partial I}{\\partial y} \\right)^2 $"
   ]
  },
  {
   "cell_type": "code",
   "execution_count": null,
   "metadata": {},
   "outputs": [],
   "source": [
    "def compute_norm_gradient_central(I):\n",
    "    \n",
    "    norm_gradient = np.zeros(I.shape)\n",
    "    \n",
    "    # ++++++++++++++++++++++++++++++++++++++++++++++++++\n",
    "    # complete the blanks\n",
    "    #\n",
    "    \n",
    "    \n",
    "    \n",
    "    #\n",
    "    # ++++++++++++++++++++++++++++++++++++++++++++++++++\n",
    "    \n",
    "    return norm_gradient"
   ]
  },
  {
   "cell_type": "markdown",
   "metadata": {},
   "source": [
    "___"
   ]
  },
  {
   "cell_type": "markdown",
   "metadata": {},
   "source": [
    "___"
   ]
  },
  {
   "cell_type": "markdown",
   "metadata": {},
   "source": [
    "## functions for presenting the results"
   ]
  },
  {
   "cell_type": "markdown",
   "metadata": {},
   "source": [
    "___"
   ]
  },
  {
   "cell_type": "markdown",
   "metadata": {},
   "source": [
    "___"
   ]
  },
  {
   "cell_type": "code",
   "execution_count": null,
   "metadata": {},
   "outputs": [],
   "source": [
    "def function_result_01():\n",
    "    \n",
    "    plt.figure(figsize=(8,6))\n",
    "    plt.imshow(I0)\n",
    "    plt.show()"
   ]
  },
  {
   "cell_type": "code",
   "execution_count": null,
   "metadata": {},
   "outputs": [],
   "source": [
    "def function_result_02():\n",
    "    \n",
    "    plt.figure(figsize=(8,6))\n",
    "    plt.imshow(I, cmap='gray', vmin=0, vmax=1, interpolation='none')\n",
    "    plt.show()"
   ]
  },
  {
   "cell_type": "code",
   "execution_count": null,
   "metadata": {},
   "outputs": [],
   "source": [
    "def function_result_03():\n",
    "\n",
    "    D = compute_derivative_x_forward(I)\n",
    "    \n",
    "    plt.figure(figsize=(8,6))\n",
    "    plt.imshow(D, cmap='gray')\n",
    "    plt.show()"
   ]
  },
  {
   "cell_type": "code",
   "execution_count": null,
   "metadata": {},
   "outputs": [],
   "source": [
    "def function_result_04():\n",
    "\n",
    "    D = compute_derivative_x_backward(I)\n",
    "    \n",
    "    plt.figure(figsize=(8,6))\n",
    "    plt.imshow(D, cmap='gray')\n",
    "    plt.show()"
   ]
  },
  {
   "cell_type": "code",
   "execution_count": null,
   "metadata": {},
   "outputs": [],
   "source": [
    "def function_result_05():\n",
    "\n",
    "    D = compute_derivative_x_central(I)\n",
    "    \n",
    "    plt.figure(figsize=(8,6))\n",
    "    plt.imshow(D, cmap='gray')\n",
    "    plt.show()"
   ]
  },
  {
   "cell_type": "code",
   "execution_count": null,
   "metadata": {},
   "outputs": [],
   "source": [
    "def function_result_06():\n",
    "\n",
    "    D = compute_derivative_y_forward(I)\n",
    "    \n",
    "    plt.figure(figsize=(8,6))\n",
    "    plt.imshow(D, cmap='gray')\n",
    "    plt.show()"
   ]
  },
  {
   "cell_type": "code",
   "execution_count": null,
   "metadata": {},
   "outputs": [],
   "source": [
    "def function_result_07():\n",
    "\n",
    "    D = compute_derivative_y_backward(I)\n",
    "    \n",
    "    plt.figure(figsize=(8,6))\n",
    "    plt.imshow(D, cmap='gray')\n",
    "    plt.show()"
   ]
  },
  {
   "cell_type": "code",
   "execution_count": null,
   "metadata": {},
   "outputs": [],
   "source": [
    "def function_result_08():\n",
    "\n",
    "    D = compute_derivative_y_central(I)\n",
    "    \n",
    "    plt.figure(figsize=(8,6))\n",
    "    plt.imshow(D, cmap='gray')\n",
    "    plt.show()"
   ]
  },
  {
   "cell_type": "code",
   "execution_count": null,
   "metadata": {},
   "outputs": [],
   "source": [
    "def function_result_09():\n",
    "\n",
    "    D = compute_norm_gradient_central(I)\n",
    "    \n",
    "    plt.figure(figsize=(8,6))\n",
    "    plt.imshow(D, cmap='gray')\n",
    "    plt.show()"
   ]
  },
  {
   "cell_type": "code",
   "execution_count": null,
   "metadata": {},
   "outputs": [],
   "source": [
    "def function_result_10():\n",
    "\n",
    "    D = compute_norm_gradient_central(I)\n",
    "    \n",
    "    plt.figure(figsize=(8,6))\n",
    "    im = plt.imshow(D, cmap=cm.jet, norm=colors.LogNorm())\n",
    "    plt.colorbar(im)\n",
    "    plt.show()"
   ]
  },
  {
   "cell_type": "code",
   "execution_count": null,
   "metadata": {},
   "outputs": [],
   "source": [
    "def function_result_11():\n",
    "\n",
    "    D = compute_derivative_x_forward(I)\n",
    "\n",
    "    value1 = D[0, 0]    \n",
    "    value2 = D[-1, -1]    \n",
    "    value3 = D[100, 100]    \n",
    "    value4 = D[200, 200]\n",
    "\n",
    "    print('value1 = ', value1)\n",
    "    print('value2 = ', value2)\n",
    "    print('value3 = ', value3)\n",
    "    print('value4 = ', value4)\n"
   ]
  },
  {
   "cell_type": "code",
   "execution_count": null,
   "metadata": {},
   "outputs": [],
   "source": [
    "def function_result_12():\n",
    "\n",
    "    D = compute_derivative_x_backward(I)\n",
    "\n",
    "    value1 = D[0, 0]    \n",
    "    value2 = D[-1, -1]    \n",
    "    value3 = D[100, 100]    \n",
    "    value4 = D[200, 200]\n",
    "\n",
    "    print('value1 = ', value1)\n",
    "    print('value2 = ', value2)\n",
    "    print('value3 = ', value3)\n",
    "    print('value4 = ', value4)\n"
   ]
  },
  {
   "cell_type": "code",
   "execution_count": null,
   "metadata": {},
   "outputs": [],
   "source": [
    "def function_result_13():\n",
    "\n",
    "    D = compute_derivative_x_central(I)\n",
    "\n",
    "    value1 = D[0, 0]    \n",
    "    value2 = D[-1, -1]    \n",
    "    value3 = D[100, 100]    \n",
    "    value4 = D[200, 200]\n",
    "\n",
    "    print('value1 = ', value1)\n",
    "    print('value2 = ', value2)\n",
    "    print('value3 = ', value3)\n",
    "    print('value4 = ', value4)\n"
   ]
  },
  {
   "cell_type": "code",
   "execution_count": null,
   "metadata": {},
   "outputs": [],
   "source": [
    "def function_result_14():\n",
    "\n",
    "    D = compute_derivative_y_forward(I)\n",
    "\n",
    "    value1 = D[0, 0]    \n",
    "    value2 = D[-1, -1]    \n",
    "    value3 = D[100, 100]    \n",
    "    value4 = D[200, 200]\n",
    "\n",
    "    print('value1 = ', value1)\n",
    "    print('value2 = ', value2)\n",
    "    print('value3 = ', value3)\n",
    "    print('value4 = ', value4)\n"
   ]
  },
  {
   "cell_type": "code",
   "execution_count": null,
   "metadata": {},
   "outputs": [],
   "source": [
    "def function_result_15():\n",
    "\n",
    "    D = compute_derivative_y_backward(I)\n",
    "\n",
    "    value1 = D[0, 0]    \n",
    "    value2 = D[-1, -1]    \n",
    "    value3 = D[100, 100]    \n",
    "    value4 = D[200, 200]\n",
    "\n",
    "    print('value1 = ', value1)\n",
    "    print('value2 = ', value2)\n",
    "    print('value3 = ', value3)\n",
    "    print('value4 = ', value4)\n"
   ]
  },
  {
   "cell_type": "code",
   "execution_count": null,
   "metadata": {},
   "outputs": [],
   "source": [
    "def function_result_16():\n",
    "\n",
    "    D = compute_derivative_y_central(I)\n",
    "\n",
    "    value1 = D[0, 0]    \n",
    "    value2 = D[-1, -1]    \n",
    "    value3 = D[100, 100]    \n",
    "    value4 = D[200, 200]\n",
    "\n",
    "    print('value1 = ', value1)\n",
    "    print('value2 = ', value2)\n",
    "    print('value3 = ', value3)\n",
    "    print('value4 = ', value4)\n"
   ]
  },
  {
   "cell_type": "code",
   "execution_count": null,
   "metadata": {},
   "outputs": [],
   "source": [
    "def function_result_17():\n",
    "\n",
    "    D = compute_norm_gradient_central(I)\n",
    "\n",
    "    value1 = D[0, 0]    \n",
    "    value2 = D[-1, -1]    \n",
    "    value3 = D[100, 100]    \n",
    "    value4 = D[200, 200]\n",
    "\n",
    "    print('value1 = ', value1)\n",
    "    print('value2 = ', value2)\n",
    "    print('value3 = ', value3)\n",
    "    print('value4 = ', value4)\n"
   ]
  },
  {
   "cell_type": "markdown",
   "metadata": {},
   "source": [
    "___"
   ]
  },
  {
   "cell_type": "markdown",
   "metadata": {},
   "source": [
    "___"
   ]
  },
  {
   "cell_type": "markdown",
   "metadata": {},
   "source": [
    "# results"
   ]
  },
  {
   "cell_type": "markdown",
   "metadata": {},
   "source": [
    "___"
   ]
  },
  {
   "cell_type": "markdown",
   "metadata": {},
   "source": [
    "___"
   ]
  },
  {
   "cell_type": "code",
   "execution_count": null,
   "metadata": {},
   "outputs": [],
   "source": [
    "number_result = 17\n",
    "\n",
    "for i in range(number_result):\n",
    "    title = '## [RESULT {:02d}]'.format(i+1)\n",
    "    name_function = 'function_result_{:02d}()'.format(i+1)\n",
    "\n",
    "    print('**************************************************')\n",
    "    print(title)\n",
    "    print('**************************************************')\n",
    "    eval(name_function)"
   ]
  },
  {
   "cell_type": "code",
   "execution_count": null,
   "metadata": {},
   "outputs": [],
   "source": []
  }
 ],
 "metadata": {
  "kernelspec": {
   "display_name": "Python 3",
   "language": "python",
   "name": "python3"
  },
  "language_info": {
   "codemirror_mode": {
    "name": "ipython",
    "version": 3
   },
   "file_extension": ".py",
   "mimetype": "text/x-python",
   "name": "python",
   "nbconvert_exporter": "python",
   "pygments_lexer": "ipython3",
   "version": "3.9.7"
  }
 },
 "nbformat": 4,
 "nbformat_minor": 2
}
